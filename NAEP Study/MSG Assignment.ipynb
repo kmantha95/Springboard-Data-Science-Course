{
 "cells": [
  {
   "cell_type": "code",
   "execution_count": 1,
   "id": "cad6d0ed-e483-412a-bbe6-4ab1297b6f12",
   "metadata": {},
   "outputs": [],
   "source": [
    "import requests\n",
    "import pandas as pd\n",
    "import numpy as np\n",
    "import matplotlib.pyplot as plt\n",
    "import seaborn as sns\n"
   ]
  },
  {
   "cell_type": "code",
   "execution_count": null,
   "id": "4d4bcc47-98ea-4948-9ef1-f4cb664dfa49",
   "metadata": {},
   "outputs": [],
   "source": []
  },
  {
   "cell_type": "code",
   "execution_count": 2,
   "id": "b40a6a95-267c-4799-8320-0b6353566e56",
   "metadata": {},
   "outputs": [],
   "source": [
    "# Define values for years of interest, demographic groups, and disability/English variables\n",
    "\n",
    "years = [1998, 2002, 2003, 2005, 2007, 2009, 2011, 2013, 2015, 2017, 2019, 2022]\n",
    "\n",
    "groups = ['White', 'Black', 'Hispanic', 'Asian/Pacific Islander', 'American Indian/Alaska Native', 'Two or more races', \n",
    "          'Identified as students with disabilities', 'Not identified as students with disabilities', 'ELL', 'Not ELL']\n",
    "\n",
    "variables = ['SDRACE', 'SDRACE', 'SDRACE', 'SDRACE', 'SDRACE', 'SDRACE', \n",
    "             'IEP', 'IEP', 'LEP', 'LEP']\n"
   ]
  },
  {
   "cell_type": "code",
   "execution_count": null,
   "id": "2c057533-593d-49ba-95d9-60cd5a395a4d",
   "metadata": {},
   "outputs": [],
   "source": []
  },
  {
   "cell_type": "code",
   "execution_count": 3,
   "id": "473caf82-3222-4b78-a203-0aeb8bbdc5e1",
   "metadata": {},
   "outputs": [],
   "source": [
    "# Function to call API for average NAEP scores in AL, reading, grade 8, with parameters for variable and year, and error handling\n",
    "\n",
    "def get_naep_data(year, variable):\n",
    "    url = \"https://www.nationsreportcard.gov/Dataservice/GetAdHocData.aspx\"\n",
    "    params = {\n",
    "        \"type\": \"data\",\n",
    "        \"subject\": \"reading\",\n",
    "        \"grade\": \"8\",\n",
    "        \"subscale\": \"RRPCM\",\n",
    "        \"variable\": variable,\n",
    "        \"jurisdiction\": \"AL\",\n",
    "        \"stattype\": \"MN:MN\",\n",
    "        \"year\": year\n",
    "    }\n",
    "    response = requests.get(url, params=params)\n",
    "    \n",
    "    if response.status_code != 200:\n",
    "        print(f\"Failed to get data for year {year}, variable {variable}\")\n",
    "        print(f\"Status code: {response.status_code}\")\n",
    "        print(f\"Response content: {response.content}\")\n",
    "        return None\n",
    "    \n",
    "    try:\n",
    "        data = response.json()\n",
    "    except ValueError as e:\n",
    "        print(f\"Error decoding JSON for year {year}, variable {variable}\")\n",
    "        print(f\"Response content: {response.content}\")\n",
    "        return None\n",
    "    \n",
    "    if 'result' not in data:\n",
    "        print(f\"'result' key not found in the response for year {year}, variable {variable}\")\n",
    "        print(f\"Response content: {data}\")\n",
    "        return None\n",
    "    \n",
    "    return data['result']\n"
   ]
  },
  {
   "cell_type": "code",
   "execution_count": 4,
   "id": "4f66c0f5-44aa-4425-98ef-1dfbb3b34234",
   "metadata": {},
   "outputs": [],
   "source": [
    "# Function to call API for average NAEP scores with significance, in AL, reading, grade 8, with parameters for variable and year\n",
    "\n",
    "def get_significance_data(year1, year2, variable):\n",
    "    url = \"https://www.nationsreportcard.gov/Dataservice/GetAdhocData.aspx\"\n",
    "    params = {\n",
    "        \"type\": \"sigacrossyear\",\n",
    "        \"subject\": \"reading\",\n",
    "        \"grade\": \"8\",\n",
    "        \"subscale\": \"RRPCM\",\n",
    "        \"variable\": variable,\n",
    "        \"jurisdiction\": \"AL\",\n",
    "        \"stattype\": \"MN:MN\",\n",
    "        \"Year\": f\"{year1},{year2}\"\n",
    "    }\n",
    "    response = requests.get(url, params=params)\n",
    "    try:\n",
    "        data = response.json()\n",
    "        return data['result']\n",
    "    except ValueError:\n",
    "        print(f\"Error decoding JSON for years {year1} and {year2}, variable {variable}\")\n",
    "        print(f\"Response content: {response.content}\")\n",
    "        return None\n"
   ]
  },
  {
   "cell_type": "code",
   "execution_count": null,
   "id": "8d8fd184-399a-4596-bfce-b8a96d033b2e",
   "metadata": {},
   "outputs": [],
   "source": []
  },
  {
   "cell_type": "code",
   "execution_count": 5,
   "id": "32a93dd7-00f4-4bab-9824-c6450bf597c2",
   "metadata": {},
   "outputs": [],
   "source": [
    "# Establish initial data dictionary\n",
    "data = {year: [] for year in years}\n",
    "\n",
    "# Loop through group/variable/year combos to populate table\n",
    "for group, variable in zip(groups, variables):\n",
    "    for year in years:\n",
    "        naep_data = get_naep_data(year, variable)\n",
    "        score = '‡'  # Default to '‡' for when 'Reporting Standards Not Met'\n",
    "        if naep_data:\n",
    "            for item in naep_data:\n",
    "                if item['variable'] == variable and item['varValueLabel'] == group:\n",
    "                    score = item['value'] if item['value'] < 999 else '‡'  # API returns '999' for '‡', so this switches it back\n",
    "                    if isinstance(score, (int, float)):\n",
    "                        score = f\"{score:.2f}\"  # Format score to 2 decimal places\n",
    "                    break\n",
    "        data[year].append(score)\n",
    "\n",
    "# Convert data to tabular pandas dataframe\n",
    "df = pd.DataFrame(data, index=groups)\n"
   ]
  },
  {
   "cell_type": "code",
   "execution_count": 6,
   "id": "e1e8253b-9d48-4997-9152-12639e2d875f",
   "metadata": {},
   "outputs": [],
   "source": [
    "# Check significance and update table\n",
    "for group, variable in zip(groups, variables):\n",
    "    for year in years[:-1]:  # Skip 2022\n",
    "        significance_data = get_significance_data(year, 2022, variable)\n",
    "        if significance_data:\n",
    "            for item in significance_data:\n",
    "                if item['variable'] == variable and item['valLabel'] == group:\n",
    "                    if item.get('sig', '') in ['LOWER', 'HIGHER']:  # Significant difference markers per API\n",
    "                        if not df.loc[group, year].endswith('*'):  # Check if * is already appended\n",
    "                            df.loc[group, year] = f\"{df.loc[group, year]}*\"  # Add '*' to mark significantly different score from 2022\n"
   ]
  },
  {
   "cell_type": "code",
   "execution_count": 7,
   "id": "a9159f6a-db45-4392-b943-37de72a06796",
   "metadata": {},
   "outputs": [],
   "source": [
    "# Rename index values per task specifications\n",
    "df.rename(index={'Two or more races': '2 or More Races', \n",
    "                 'Identified as students with disabilities': 'SD', \n",
    "                 'Not identified as students with disabilities': 'Not SD'}, inplace=True)"
   ]
  },
  {
   "cell_type": "code",
   "execution_count": 8,
   "id": "22588bfa-9c2e-48f8-a813-e2a165bc1ab8",
   "metadata": {},
   "outputs": [
    {
     "data": {
      "text/html": [
       "<div>\n",
       "<style scoped>\n",
       "    .dataframe tbody tr th:only-of-type {\n",
       "        vertical-align: middle;\n",
       "    }\n",
       "\n",
       "    .dataframe tbody tr th {\n",
       "        vertical-align: top;\n",
       "    }\n",
       "\n",
       "    .dataframe thead th {\n",
       "        text-align: right;\n",
       "    }\n",
       "</style>\n",
       "<table border=\"1\" class=\"dataframe\">\n",
       "  <thead>\n",
       "    <tr style=\"text-align: right;\">\n",
       "      <th></th>\n",
       "      <th>1998</th>\n",
       "      <th>2002</th>\n",
       "      <th>2003</th>\n",
       "      <th>2005</th>\n",
       "      <th>2007</th>\n",
       "      <th>2009</th>\n",
       "      <th>2011</th>\n",
       "      <th>2013</th>\n",
       "      <th>2015</th>\n",
       "      <th>2017</th>\n",
       "      <th>2019</th>\n",
       "      <th>2022</th>\n",
       "    </tr>\n",
       "  </thead>\n",
       "  <tbody>\n",
       "    <tr>\n",
       "      <th>White</th>\n",
       "      <td>264.61</td>\n",
       "      <td>263.94</td>\n",
       "      <td>262.42</td>\n",
       "      <td>263.48</td>\n",
       "      <td>261.48</td>\n",
       "      <td>264.41</td>\n",
       "      <td>267.73*</td>\n",
       "      <td>266.46</td>\n",
       "      <td>266.87*</td>\n",
       "      <td>268.11*</td>\n",
       "      <td>261.09</td>\n",
       "      <td>261.82</td>\n",
       "    </tr>\n",
       "    <tr>\n",
       "      <th>Black</th>\n",
       "      <td>236.71</td>\n",
       "      <td>233.73</td>\n",
       "      <td>236.90</td>\n",
       "      <td>234.70</td>\n",
       "      <td>235.90</td>\n",
       "      <td>237.79</td>\n",
       "      <td>242.83*</td>\n",
       "      <td>241.35*</td>\n",
       "      <td>243.24*</td>\n",
       "      <td>241.16*</td>\n",
       "      <td>239.32</td>\n",
       "      <td>234.35</td>\n",
       "    </tr>\n",
       "    <tr>\n",
       "      <th>Hispanic</th>\n",
       "      <td>‡</td>\n",
       "      <td>‡</td>\n",
       "      <td>‡</td>\n",
       "      <td>‡</td>\n",
       "      <td>249.97</td>\n",
       "      <td>245.06</td>\n",
       "      <td>246.46</td>\n",
       "      <td>248.88</td>\n",
       "      <td>252.48</td>\n",
       "      <td>243.22</td>\n",
       "      <td>246.20</td>\n",
       "      <td>244.79</td>\n",
       "    </tr>\n",
       "    <tr>\n",
       "      <th>Asian/Pacific Islander</th>\n",
       "      <td>‡</td>\n",
       "      <td>‡</td>\n",
       "      <td>‡</td>\n",
       "      <td>‡</td>\n",
       "      <td>‡</td>\n",
       "      <td>‡</td>\n",
       "      <td>‡</td>\n",
       "      <td>‡</td>\n",
       "      <td>‡</td>\n",
       "      <td>‡</td>\n",
       "      <td>‡</td>\n",
       "      <td>‡</td>\n",
       "    </tr>\n",
       "    <tr>\n",
       "      <th>American Indian/Alaska Native</th>\n",
       "      <td>‡</td>\n",
       "      <td>‡</td>\n",
       "      <td>‡</td>\n",
       "      <td>‡</td>\n",
       "      <td>‡</td>\n",
       "      <td>‡</td>\n",
       "      <td>‡</td>\n",
       "      <td>‡</td>\n",
       "      <td>‡</td>\n",
       "      <td>‡</td>\n",
       "      <td>‡</td>\n",
       "      <td>‡</td>\n",
       "    </tr>\n",
       "    <tr>\n",
       "      <th>2 or More Races</th>\n",
       "      <td>‡</td>\n",
       "      <td>‡</td>\n",
       "      <td>‡</td>\n",
       "      <td>‡</td>\n",
       "      <td>‡</td>\n",
       "      <td>‡</td>\n",
       "      <td>‡</td>\n",
       "      <td>‡</td>\n",
       "      <td>‡</td>\n",
       "      <td>‡</td>\n",
       "      <td>‡</td>\n",
       "      <td>‡</td>\n",
       "    </tr>\n",
       "    <tr>\n",
       "      <th>SD</th>\n",
       "      <td>‡</td>\n",
       "      <td>211.07</td>\n",
       "      <td>205.67</td>\n",
       "      <td>207.44</td>\n",
       "      <td>202.56*</td>\n",
       "      <td>207.62</td>\n",
       "      <td>216.83</td>\n",
       "      <td>209.99</td>\n",
       "      <td>212.82</td>\n",
       "      <td>215.81</td>\n",
       "      <td>209.17</td>\n",
       "      <td>212.06</td>\n",
       "    </tr>\n",
       "    <tr>\n",
       "      <th>Not SD</th>\n",
       "      <td>257.66</td>\n",
       "      <td>258.16</td>\n",
       "      <td>258.77</td>\n",
       "      <td>257.48</td>\n",
       "      <td>257.18</td>\n",
       "      <td>259.46</td>\n",
       "      <td>262.44*</td>\n",
       "      <td>261.99*</td>\n",
       "      <td>263.49*</td>\n",
       "      <td>262.28*</td>\n",
       "      <td>258.80</td>\n",
       "      <td>256.70</td>\n",
       "    </tr>\n",
       "    <tr>\n",
       "      <th>ELL</th>\n",
       "      <td>‡</td>\n",
       "      <td>‡</td>\n",
       "      <td>‡</td>\n",
       "      <td>‡</td>\n",
       "      <td>‡</td>\n",
       "      <td>‡</td>\n",
       "      <td>‡</td>\n",
       "      <td>‡</td>\n",
       "      <td>‡</td>\n",
       "      <td>‡</td>\n",
       "      <td>‡</td>\n",
       "      <td>212.60</td>\n",
       "    </tr>\n",
       "    <tr>\n",
       "      <th>Not ELL</th>\n",
       "      <td>255.05</td>\n",
       "      <td>252.61</td>\n",
       "      <td>253.47</td>\n",
       "      <td>252.22</td>\n",
       "      <td>252.20</td>\n",
       "      <td>255.47</td>\n",
       "      <td>258.97*</td>\n",
       "      <td>257.98*</td>\n",
       "      <td>259.21*</td>\n",
       "      <td>258.67*</td>\n",
       "      <td>254.00</td>\n",
       "      <td>252.60</td>\n",
       "    </tr>\n",
       "  </tbody>\n",
       "</table>\n",
       "</div>"
      ],
      "text/plain": [
       "                                 1998    2002    2003    2005     2007  \\\n",
       "White                          264.61  263.94  262.42  263.48   261.48   \n",
       "Black                          236.71  233.73  236.90  234.70   235.90   \n",
       "Hispanic                            ‡       ‡       ‡       ‡   249.97   \n",
       "Asian/Pacific Islander              ‡       ‡       ‡       ‡        ‡   \n",
       "American Indian/Alaska Native       ‡       ‡       ‡       ‡        ‡   \n",
       "2 or More Races                     ‡       ‡       ‡       ‡        ‡   \n",
       "SD                                  ‡  211.07  205.67  207.44  202.56*   \n",
       "Not SD                         257.66  258.16  258.77  257.48   257.18   \n",
       "ELL                                 ‡       ‡       ‡       ‡        ‡   \n",
       "Not ELL                        255.05  252.61  253.47  252.22   252.20   \n",
       "\n",
       "                                 2009     2011     2013     2015     2017  \\\n",
       "White                          264.41  267.73*   266.46  266.87*  268.11*   \n",
       "Black                          237.79  242.83*  241.35*  243.24*  241.16*   \n",
       "Hispanic                       245.06   246.46   248.88   252.48   243.22   \n",
       "Asian/Pacific Islander              ‡        ‡        ‡        ‡        ‡   \n",
       "American Indian/Alaska Native       ‡        ‡        ‡        ‡        ‡   \n",
       "2 or More Races                     ‡        ‡        ‡        ‡        ‡   \n",
       "SD                             207.62   216.83   209.99   212.82   215.81   \n",
       "Not SD                         259.46  262.44*  261.99*  263.49*  262.28*   \n",
       "ELL                                 ‡        ‡        ‡        ‡        ‡   \n",
       "Not ELL                        255.47  258.97*  257.98*  259.21*  258.67*   \n",
       "\n",
       "                                 2019    2022  \n",
       "White                          261.09  261.82  \n",
       "Black                          239.32  234.35  \n",
       "Hispanic                       246.20  244.79  \n",
       "Asian/Pacific Islander              ‡       ‡  \n",
       "American Indian/Alaska Native       ‡       ‡  \n",
       "2 or More Races                     ‡       ‡  \n",
       "SD                             209.17  212.06  \n",
       "Not SD                         258.80  256.70  \n",
       "ELL                                 ‡  212.60  \n",
       "Not ELL                        254.00  252.60  "
      ]
     },
     "metadata": {},
     "output_type": "display_data"
    }
   ],
   "source": [
    "display(df)"
   ]
  },
  {
   "cell_type": "code",
   "execution_count": null,
   "id": "f93781d8-9821-4e89-b0ea-8b6d795498c6",
   "metadata": {},
   "outputs": [],
   "source": []
  },
  {
   "cell_type": "code",
   "execution_count": 9,
   "id": "2dfd8a51-5edc-49db-b837-fa5f41282882",
   "metadata": {},
   "outputs": [
    {
     "data": {
      "image/png": "[encoded data removed]",
      "text/plain": [
       "<Figure size 864x576 with 2 Axes>"
      ]
     },
     "metadata": {
      "needs_background": "light"
     },
     "output_type": "display_data"
    }
   ],
   "source": [
    "# Visualize data with a heatmap and significance marker '***'\n",
    "\n",
    "# Replace '‡' with NaN\n",
    "df_clean = df.replace('‡', np.nan)\n",
    "\n",
    "# Extract numeric part and convert to float\n",
    "df_numeric = df_clean.replace({r'\\*': ''}, regex=True).astype(float)\n",
    "\n",
    "# Create a mask for significant scores\n",
    "sig_mask = df_clean.applymap(lambda x: isinstance(x, str) and '*' in x)\n",
    "\n",
    "# Plot the heatmap\n",
    "plt.figure(figsize=(12, 8))\n",
    "sns.heatmap(df_numeric, annot=True, fmt=\".2f\", cmap=\"coolwarm\", linewidths=.5, cbar_kws={'label': 'Score'})\n",
    "\n",
    "# Overlay the significant markers\n",
    "for y in range(df.shape[0]):\n",
    "    for x in range(df.shape[1]):\n",
    "        if sig_mask.iat[y, x]:\n",
    "            plt.text(x + 0.5, y + 0.8, '***', color='black', fontsize=12, ha='center', va='center')\n",
    "\n",
    "# Set the title and labels\n",
    "plt.title('NAEP Scores by Demographic Group and Year')\n",
    "plt.xlabel('Year')\n",
    "plt.ylabel('Demographic Group')\n",
    "\n",
    "plt.show()\n"
   ]
  },
  {
   "cell_type": "code",
   "execution_count": 10,
   "id": "3c285378-7f4a-43ab-96f2-42d82d466341",
   "metadata": {},
   "outputs": [
    {
     "data": {
      "image/png": "[encoded data removed]",
      "text/plain": [
       "<Figure size 864x576 with 1 Axes>"
      ]
     },
     "metadata": {
      "needs_background": "light"
     },
     "output_type": "display_data"
    }
   ],
   "source": [
    "# Visualize data with a line-graph and significance marker '***'\n",
    "\n",
    "plt.figure(figsize=(12, 8))\n",
    "\n",
    "# Loop through each group and plot its scores over time\n",
    "for group in df.index:\n",
    "    plt.plot(df.columns, df_numeric.loc[group], marker='o', label=group)\n",
    "\n",
    "# Highlight significant scores\n",
    "for y in range(df.shape[0]):\n",
    "    for x in range(df.shape[1]):\n",
    "        if sig_mask.iat[y, x]:\n",
    "            plt.text(df.columns[x], df_numeric.iat[y, x], '***', color='red', fontsize=12, ha='center')\n",
    "\n",
    "# Set the title and labels\n",
    "plt.title('NAEP Scores by Demographic Group and Year')\n",
    "plt.xlabel('Year')\n",
    "plt.ylabel('Score')\n",
    "plt.legend(title='Demographic Group')\n",
    "plt.grid(True)\n",
    "\n",
    "plt.show()\n"
   ]
  },
  {
   "cell_type": "code",
   "execution_count": null,
   "id": "de11d21e-96b0-450b-bf77-32e45551df87",
   "metadata": {},
   "outputs": [],
   "source": []
  },
  {
   "cell_type": "code",
   "execution_count": 11,
   "id": "d2e0e00c-7688-40e1-8dc1-38d61a47888b",
   "metadata": {},
   "outputs": [],
   "source": [
    "# Ensure the 'Group' column is added correctly\n",
    "df_clean['Group'] = df_clean.index\n",
    "\n",
    "# Convert to long format\n",
    "df_long = df_clean.reset_index(drop=True).melt(id_vars='Group', var_name='Year', value_name='Score')\n",
    "\n",
    "# Handle '‡' values and significant markers\n",
    "df_long['Numeric_Score'] = df_long['Score'].replace({'‡': np.nan, r'\\*': ''}, regex=True).astype(float)\n",
    "df_long['Significant'] = df_long['Score'].apply(lambda x: '*' in str(x) if isinstance(x, str) else False)\n",
    "\n",
    "# Ensure 'Year' is a string value\n",
    "df_long['Year'] = df_long['Year'].astype(str)\n"
   ]
  },
  {
   "cell_type": "code",
   "execution_count": 14,
   "id": "62fba7fc-0fde-4296-a0d5-a8a6e48fe03e",
   "metadata": {},
   "outputs": [
    {
     "data": {
      "image/png": "[encoded data removed]",
      "text/plain": [
       "<Figure size 1152x576 with 1 Axes>"
      ]
     },
     "metadata": {
      "needs_background": "light"
     },
     "output_type": "display_data"
    }
   ],
   "source": [
    "# Adjust figure size for the box plot\n",
    "plt.figure(figsize=(16, 8))\n",
    "\n",
    "# Plot the box plot\n",
    "sns.boxplot(x='Year', y='Numeric_Score', data=df_long, palette=\"coolwarm\")\n",
    "\n",
    "# Set the title and labels\n",
    "plt.title('Distribution of NAEP Scores by Year')\n",
    "plt.xlabel('Year')\n",
    "plt.ylabel('Score')\n",
    "\n",
    "plt.show()"
   ]
  },
  {
   "cell_type": "code",
   "execution_count": null,
   "id": "0d59312e-5376-4100-9037-931838c7b86b",
   "metadata": {},
   "outputs": [],
   "source": []
  },
  {
   "cell_type": "code",
   "execution_count": 17,
   "id": "0cabe2e7-20ff-40bf-88b8-7fa8701d283e",
   "metadata": {},
   "outputs": [
    {
     "data": {
      "image/png": "[encoded data removed]",
      "text/plain": [
       "<Figure size 1440x720 with 1 Axes>"
      ]
     },
     "metadata": {
      "needs_background": "light"
     },
     "output_type": "display_data"
    }
   ],
   "source": [
    "# Ensure Year is a string\n",
    "df_long['Year'] = df_long['Year'].astype(str)\n",
    "\n",
    "# Adjust figure size for the clustered bar chart\n",
    "plt.figure(figsize=(20, 10))  # Adjust size as needed\n",
    "\n",
    "# Plot the clustered bar chart\n",
    "sns.barplot(x='Year', y='Numeric_Score', hue='Group', data=df_long, palette=\"coolwarm\")\n",
    "\n",
    "# Set the title and labels\n",
    "plt.title('NAEP Scores by Demographic Group and Year')\n",
    "plt.xlabel('Year')\n",
    "plt.ylabel('Score')\n",
    "plt.legend(title='Demographic Group')\n",
    "plt.legend(bbox_to_anchor=(1.0, 1.0), loc='upper left')\n",
    "\n",
    "plt.show()"
   ]
  },
  {
   "cell_type": "code",
   "execution_count": null,
   "id": "a8019645-ff15-4c37-9907-a70ab4d9669c",
   "metadata": {},
   "outputs": [],
   "source": []
  },
  {
   "cell_type": "code",
   "execution_count": 18,
   "id": "603851a0-342f-47cc-91e8-746bf782d6e8",
   "metadata": {},
   "outputs": [
    {
     "data": {
      "application/vnd.jupyter.widget-view+json": {
       "model_id": "b26aa75b472349d28baaea81a9bbed62",
       "version_major": 2,
       "version_minor": 0
      },
      "text/plain": [
       "interactive(children=(Dropdown(description='Year:', options=(1998, 2002, 2003, 2005, 2007, 2009, 2011, 2013, 2…"
      ]
     },
     "metadata": {},
     "output_type": "display_data"
    }
   ],
   "source": [
    "# Import widgets for interactive graph with dropdown\n",
    "import plotly.graph_objects as go\n",
    "import ipywidgets as widgets\n",
    "from IPython.display import display\n",
    "import numpy as np\n",
    "\n",
    "# Replace '‡' with NaN and ensure numeric conversion\n",
    "df_clean = df.replace('‡', np.nan)\n",
    "df_numeric = df_clean.replace({r'\\*': ''}, regex=True).apply(pd.to_numeric, errors='coerce')\n",
    "\n",
    "# Create a mask for significant scores\n",
    "sig_mask = df_clean.applymap(lambda x: isinstance(x, str) and '*' in x)\n",
    "\n",
    "# Dropdown widget\n",
    "year_dropdown = widgets.Dropdown(\n",
    "    options=[year for year in df_numeric.columns],\n",
    "    value=df_numeric.columns[0],  # Default to the first year\n",
    "    description='Year:',\n",
    ")\n",
    "\n",
    "# Function to update the bar chart based on selected year\n",
    "def update_bar_chart(year):\n",
    "    # Ensure the year exists in the DataFrame\n",
    "    if year not in df_numeric.columns:\n",
    "        print(f\"Year {year} is not in the data.\")\n",
    "        return\n",
    "    \n",
    "    # Create the bar chart\n",
    "    fig = go.Figure()\n",
    "    \n",
    "    # Plotting the data\n",
    "    fig.add_trace(go.Bar(\n",
    "        x=df_numeric.index,\n",
    "        y=df_numeric[year],\n",
    "        marker_color='royalblue',\n",
    "        name='Scores'\n",
    "    ))\n",
    "    \n",
    "    # Add significant markers\n",
    "    for i, is_significant in enumerate(sig_mask[year]):\n",
    "        if is_significant:\n",
    "            fig.add_annotation(\n",
    "                x=df_numeric.index[i],\n",
    "                y=df_numeric[year][i],\n",
    "                text='***',\n",
    "                showarrow=True,\n",
    "                arrowhead=2,\n",
    "                ax=0,\n",
    "                ay=-40\n",
    "            )\n",
    "    \n",
    "    # Update layout\n",
    "    fig.update_layout(\n",
    "        title=f'NAEP Scores by Demographic Group in {year}',\n",
    "        xaxis_title='Demographic Group',\n",
    "        yaxis_title='Score',\n",
    "        xaxis_tickangle=-45,\n",
    "        template='plotly_white'\n",
    "    )\n",
    "    \n",
    "    # Show the plot\n",
    "    fig.show()\n",
    "\n",
    "# Set up the interactive widget\n",
    "interactive_plot = widgets.interactive(update_bar_chart, year=year_dropdown)\n",
    "display(interactive_plot)\n"
   ]
  },
  {
   "cell_type": "code",
   "execution_count": null,
   "id": "ff819c36",
   "metadata": {},
   "outputs": [],
   "source": []
  }
 ],
 "metadata": {
  "kernelspec": {
   "display_name": "Python 3 (ipykernel)",
   "language": "python",
   "name": "python3"
  },
  "language_info": {
   "codemirror_mode": {
    "name": "ipython",
    "version": 3
   },
   "file_extension": ".py",
   "mimetype": "text/x-python",
   "name": "python",
   "nbconvert_exporter": "python",
   "pygments_lexer": "ipython3",
   "version": "3.9.7"
  },
  "widgets": {
   "application/vnd.jupyter.widget-state+json": {
    "state": {
     "54d751ccbe2948fe9f65f89a442aebd0": {
      "model_module": "@jupyter-widgets/controls",
      "model_module_version": "1.5.0",
      "model_name": "DropdownModel",
      "state": {
       "_options_labels": [
        "1998",
        "2002",
        "2003",
        "2005",
        "2007",
        "2009",
        "2011",
        "2013",
        "2015",
        "2017",
        "2019",
        "2022"
       ],
       "description": "Year:",
       "index": 9,
       "layout": "IPY_MODEL_97f5656c827340f0916d781a11b81159",
       "style": "IPY_MODEL_a5aff237835047fca2e4a3ed20b3505d"
      }
     },
     "59e343ce15614835b57ca283e6697d0e": {
      "model_module": "@jupyter-widgets/base",
      "model_module_version": "1.2.0",
      "model_name": "LayoutModel",
      "state": {}
     },
     "7f7261b0d10e4b08b895d5c9fee42d69": {
      "model_module": "@jupyter-widgets/base",
      "model_module_version": "1.2.0",
      "model_name": "LayoutModel",
      "state": {}
     },
     "97f5656c827340f0916d781a11b81159": {
      "model_module": "@jupyter-widgets/base",
      "model_module_version": "1.2.0",
      "model_name": "LayoutModel",
      "state": {}
     },
     "a5aff237835047fca2e4a3ed20b3505d": {
      "model_module": "@jupyter-widgets/controls",
      "model_module_version": "1.5.0",
      "model_name": "DescriptionStyleModel",
      "state": {
       "description_width": ""
      }
     },
     "b26aa75b472349d28baaea81a9bbed62": {
      "model_module": "@jupyter-widgets/controls",
      "model_module_version": "1.5.0",
      "model_name": "VBoxModel",
      "state": {
       "_dom_classes": [
        "widget-interact"
       ],
       "children": [
        "IPY_MODEL_54d751ccbe2948fe9f65f89a442aebd0",
        "IPY_MODEL_d56ba1f0d14b4a76becde36f04ef73b1"
       ],
       "layout": "IPY_MODEL_59e343ce15614835b57ca283e6697d0e"
      }
     },
     "d56ba1f0d14b4a76becde36f04ef73b1": {
      "model_module": "@jupyter-widgets/output",
      "model_module_version": "1.0.0",
      "model_name": "OutputModel",
      "state": {
       "layout": "IPY_MODEL_7f7261b0d10e4b08b895d5c9fee42d69",
       "outputs": [
        {
         "data": {
          "application/vnd.plotly.v1+json": {
           "config": {
            "plotlyServerURL": "https://plot.ly"
           },
           "data": [
            {
             "marker": {
              "color": "royalblue"
             },
             "name": "Scores",
             "type": "bar",
             "x": [
              "White",
              "Black",
              "Hispanic",
              "Asian/Pacific Islander",
              "American Indian/Alaska Native",
              "2 or More Races",
              "SD",
              "Not SD",
              "ELL",
              "Not ELL"
             ],
             "y": [
              268.11,
              241.16,
              243.22,
              null,
              null,
              null,
              215.81,
              262.28,
              null,
              258.67
             ]
            }
           ],
           "layout": {
            "annotations": [
             {
              "arrowhead": 2,
              "ax": 0,
              "ay": -40,
              "showarrow": true,
              "text": "***",
              "x": "White",
              "y": 268.11
             },
             {
              "arrowhead": 2,
              "ax": 0,
              "ay": -40,
              "showarrow": true,
              "text": "***",
              "x": "Black",
              "y": 241.16
             },
             {
              "arrowhead": 2,
              "ax": 0,
              "ay": -40,
              "showarrow": true,
              "text": "***",
              "x": "Not SD",
              "y": 262.28
             },
             {
              "arrowhead": 2,
              "ax": 0,
              "ay": -40,
              "showarrow": true,
              "text": "***",
              "x": "Not ELL",
              "y": 258.67
             }
            ],
            "template": {
             "data": {
              "bar": [
               {
                "error_x": {
                 "color": "#2a3f5f"
                },
                "error_y": {
                 "color": "#2a3f5f"
                },
                "marker": {
                 "line": {
                  "color": "white",
                  "width": 0.5
                 },
                 "pattern": {
                  "fillmode": "overlay",
                  "size": 10,
                  "solidity": 0.2
                 }
                },
                "type": "bar"
               }
              ],
              "barpolar": [
               {
                "marker": {
                 "line": {
                  "color": "white",
                  "width": 0.5
                 },
                 "pattern": {
                  "fillmode": "overlay",
                  "size": 10,
                  "solidity": 0.2
                 }
                },
                "type": "barpolar"
               }
              ],
              "carpet": [
               {
                "aaxis": {
                 "endlinecolor": "#2a3f5f",
                 "gridcolor": "#C8D4E3",
                 "linecolor": "#C8D4E3",
                 "minorgridcolor": "#C8D4E3",
                 "startlinecolor": "#2a3f5f"
                },
                "baxis": {
                 "endlinecolor": "#2a3f5f",
                 "gridcolor": "#C8D4E3",
                 "linecolor": "#C8D4E3",
                 "minorgridcolor": "#C8D4E3",
                 "startlinecolor": "#2a3f5f"
                },
                "type": "carpet"
               }
              ],
              "choropleth": [
               {
                "colorbar": {
                 "outlinewidth": 0,
                 "ticks": ""
                },
                "type": "choropleth"
               }
              ],
              "contour": [
               {
                "colorbar": {
                 "outlinewidth": 0,
                 "ticks": ""
                },
                "colorscale": [
                 [
                  0,
                  "#0d0887"
                 ],
                 [
                  0.1111111111111111,
                  "#46039f"
                 ],
                 [
                  0.2222222222222222,
                  "#7201a8"
                 ],
                 [
                  0.3333333333333333,
                  "#9c179e"
                 ],
                 [
                  0.4444444444444444,
                  "#bd3786"
                 ],
                 [
                  0.5555555555555556,
                  "#d8576b"
                 ],
                 [
                  0.6666666666666666,
                  "#ed7953"
                 ],
                 [
                  0.7777777777777778,
                  "#fb9f3a"
                 ],
                 [
                  0.8888888888888888,
                  "#fdca26"
                 ],
                 [
                  1,
                  "#f0f921"
                 ]
                ],
                "type": "contour"
               }
              ],
              "contourcarpet": [
               {
                "colorbar": {
                 "outlinewidth": 0,
                 "ticks": ""
                },
                "type": "contourcarpet"
               }
              ],
              "heatmap": [
               {
                "colorbar": {
                 "outlinewidth": 0,
                 "ticks": ""
                },
                "colorscale": [
                 [
                  0,
                  "#0d0887"
                 ],
                 [
                  0.1111111111111111,
                  "#46039f"
                 ],
                 [
                  0.2222222222222222,
                  "#7201a8"
                 ],
                 [
                  0.3333333333333333,
                  "#9c179e"
                 ],
                 [
                  0.4444444444444444,
                  "#bd3786"
                 ],
                 [
                  0.5555555555555556,
                  "#d8576b"
                 ],
                 [
                  0.6666666666666666,
                  "#ed7953"
                 ],
                 [
                  0.7777777777777778,
                  "#fb9f3a"
                 ],
                 [
                  0.8888888888888888,
                  "#fdca26"
                 ],
                 [
                  1,
                  "#f0f921"
                 ]
                ],
                "type": "heatmap"
               }
              ],
              "heatmapgl": [
               {
                "colorbar": {
                 "outlinewidth": 0,
                 "ticks": ""
                },
                "colorscale": [
                 [
                  0,
                  "#0d0887"
                 ],
                 [
                  0.1111111111111111,
                  "#46039f"
                 ],
                 [
                  0.2222222222222222,
                  "#7201a8"
                 ],
                 [
                  0.3333333333333333,
                  "#9c179e"
                 ],
                 [
                  0.4444444444444444,
                  "#bd3786"
                 ],
                 [
                  0.5555555555555556,
                  "#d8576b"
                 ],
                 [
                  0.6666666666666666,
                  "#ed7953"
                 ],
                 [
                  0.7777777777777778,
                  "#fb9f3a"
                 ],
                 [
                  0.8888888888888888,
                  "#fdca26"
                 ],
                 [
                  1,
                  "#f0f921"
                 ]
                ],
                "type": "heatmapgl"
               }
              ],
              "histogram": [
               {
                "marker": {
                 "pattern": {
                  "fillmode": "overlay",
                  "size": 10,
                  "solidity": 0.2
                 }
                },
                "type": "histogram"
               }
              ],
              "histogram2d": [
               {
                "colorbar": {
                 "outlinewidth": 0,
                 "ticks": ""
                },
                "colorscale": [
                 [
                  0,
                  "#0d0887"
                 ],
                 [
                  0.1111111111111111,
                  "#46039f"
                 ],
                 [
                  0.2222222222222222,
                  "#7201a8"
                 ],
                 [
                  0.3333333333333333,
                  "#9c179e"
                 ],
                 [
                  0.4444444444444444,
                  "#bd3786"
                 ],
                 [
                  0.5555555555555556,
                  "#d8576b"
                 ],
                 [
                  0.6666666666666666,
                  "#ed7953"
                 ],
                 [
                  0.7777777777777778,
                  "#fb9f3a"
                 ],
                 [
                  0.8888888888888888,
                  "#fdca26"
                 ],
                 [
                  1,
                  "#f0f921"
                 ]
                ],
                "type": "histogram2d"
               }
              ],
              "histogram2dcontour": [
               {
                "colorbar": {
                 "outlinewidth": 0,
                 "ticks": ""
                },
                "colorscale": [
                 [
                  0,
                  "#0d0887"
                 ],
                 [
                  0.1111111111111111,
                  "#46039f"
                 ],
                 [
                  0.2222222222222222,
                  "#7201a8"
                 ],
                 [
                  0.3333333333333333,
                  "#9c179e"
                 ],
                 [
                  0.4444444444444444,
                  "#bd3786"
                 ],
                 [
                  0.5555555555555556,
                  "#d8576b"
                 ],
                 [
                  0.6666666666666666,
                  "#ed7953"
                 ],
                 [
                  0.7777777777777778,
                  "#fb9f3a"
                 ],
                 [
                  0.8888888888888888,
                  "#fdca26"
                 ],
                 [
                  1,
                  "#f0f921"
                 ]
                ],
                "type": "histogram2dcontour"
               }
              ],
              "mesh3d": [
               {
                "colorbar": {
                 "outlinewidth": 0,
                 "ticks": ""
                },
                "type": "mesh3d"
               }
              ],
              "parcoords": [
               {
                "line": {
                 "colorbar": {
                  "outlinewidth": 0,
                  "ticks": ""
                 }
                },
                "type": "parcoords"
               }
              ],
              "pie": [
               {
                "automargin": true,
                "type": "pie"
               }
              ],
              "scatter": [
               {
                "fillpattern": {
                 "fillmode": "overlay",
                 "size": 10,
                 "solidity": 0.2
                },
                "type": "scatter"
               }
              ],
              "scatter3d": [
               {
                "line": {
                 "colorbar": {
                  "outlinewidth": 0,
                  "ticks": ""
                 }
                },
                "marker": {
                 "colorbar": {
                  "outlinewidth": 0,
                  "ticks": ""
                 }
                },
                "type": "scatter3d"
               }
              ],
              "scattercarpet": [
               {
                "marker": {
                 "colorbar": {
                  "outlinewidth": 0,
                  "ticks": ""
                 }
                },
                "type": "scattercarpet"
               }
              ],
              "scattergeo": [
               {
                "marker": {
                 "colorbar": {
                  "outlinewidth": 0,
                  "ticks": ""
                 }
                },
                "type": "scattergeo"
               }
              ],
              "scattergl": [
               {
                "marker": {
                 "colorbar": {
                  "outlinewidth": 0,
                  "ticks": ""
                 }
                },
                "type": "scattergl"
               }
              ],
              "scattermapbox": [
               {
                "marker": {
                 "colorbar": {
                  "outlinewidth": 0,
                  "ticks": ""
                 }
                },
                "type": "scattermapbox"
               }
              ],
              "scatterpolar": [
               {
                "marker": {
                 "colorbar": {
                  "outlinewidth": 0,
                  "ticks": ""
                 }
                },
                "type": "scatterpolar"
               }
              ],
              "scatterpolargl": [
               {
                "marker": {
                 "colorbar": {
                  "outlinewidth": 0,
                  "ticks": ""
                 }
                },
                "type": "scatterpolargl"
               }
              ],
              "scatterternary": [
               {
                "marker": {
                 "colorbar": {
                  "outlinewidth": 0,
                  "ticks": ""
                 }
                },
                "type": "scatterternary"
               }
              ],
              "surface": [
               {
                "colorbar": {
                 "outlinewidth": 0,
                 "ticks": ""
                },
                "colorscale": [
                 [
                  0,
                  "#0d0887"
                 ],
                 [
                  0.1111111111111111,
                  "#46039f"
                 ],
                 [
                  0.2222222222222222,
                  "#7201a8"
                 ],
                 [
                  0.3333333333333333,
                  "#9c179e"
                 ],
                 [
                  0.4444444444444444,
                  "#bd3786"
                 ],
                 [
                  0.5555555555555556,
                  "#d8576b"
                 ],
                 [
                  0.6666666666666666,
                  "#ed7953"
                 ],
                 [
                  0.7777777777777778,
                  "#fb9f3a"
                 ],
                 [
                  0.8888888888888888,
                  "#fdca26"
                 ],
                 [
                  1,
                  "#f0f921"
                 ]
                ],
                "type": "surface"
               }
              ],
              "table": [
               {
                "cells": {
                 "fill": {
                  "color": "#EBF0F8"
                 },
                 "line": {
                  "color": "white"
                 }
                },
                "header": {
                 "fill": {
                  "color": "#C8D4E3"
                 },
                 "line": {
                  "color": "white"
                 }
                },
                "type": "table"
               }
              ]
             },
             "layout": {
              "annotationdefaults": {
               "arrowcolor": "#2a3f5f",
               "arrowhead": 0,
               "arrowwidth": 1
              },
              "autotypenumbers": "strict",
              "coloraxis": {
               "colorbar": {
                "outlinewidth": 0,
                "ticks": ""
               }
              },
              "colorscale": {
               "diverging": [
                [
                 0,
                 "#8e0152"
                ],
                [
                 0.1,
                 "#c51b7d"
                ],
                [
                 0.2,
                 "#de77ae"
                ],
                [
                 0.3,
                 "#f1b6da"
                ],
                [
                 0.4,
                 "#fde0ef"
                ],
                [
                 0.5,
                 "#f7f7f7"
                ],
                [
                 0.6,
                 "#e6f5d0"
                ],
                [
                 0.7,
                 "#b8e186"
                ],
                [
                 0.8,
                 "#7fbc41"
                ],
                [
                 0.9,
                 "#4d9221"
                ],
                [
                 1,
                 "#276419"
                ]
               ],
               "sequential": [
                [
                 0,
                 "#0d0887"
                ],
                [
                 0.1111111111111111,
                 "#46039f"
                ],
                [
                 0.2222222222222222,
                 "#7201a8"
                ],
                [
                 0.3333333333333333,
                 "#9c179e"
                ],
                [
                 0.4444444444444444,
                 "#bd3786"
                ],
                [
                 0.5555555555555556,
                 "#d8576b"
                ],
                [
                 0.6666666666666666,
                 "#ed7953"
                ],
                [
                 0.7777777777777778,
                 "#fb9f3a"
                ],
                [
                 0.8888888888888888,
                 "#fdca26"
                ],
                [
                 1,
                 "#f0f921"
                ]
               ],
               "sequentialminus": [
                [
                 0,
                 "#0d0887"
                ],
                [
                 0.1111111111111111,
                 "#46039f"
                ],
                [
                 0.2222222222222222,
                 "#7201a8"
                ],
                [
                 0.3333333333333333,
                 "#9c179e"
                ],
                [
                 0.4444444444444444,
                 "#bd3786"
                ],
                [
                 0.5555555555555556,
                 "#d8576b"
                ],
                [
                 0.6666666666666666,
                 "#ed7953"
                ],
                [
                 0.7777777777777778,
                 "#fb9f3a"
                ],
                [
                 0.8888888888888888,
                 "#fdca26"
                ],
                [
                 1,
                 "#f0f921"
                ]
               ]
              },
              "colorway": [
               "#636efa",
               "#EF553B",
               "#00cc96",
               "#ab63fa",
               "#FFA15A",
               "#19d3f3",
               "#FF6692",
               "#B6E880",
               "#FF97FF",
               "#FECB52"
              ],
              "font": {
               "color": "#2a3f5f"
              },
              "geo": {
               "bgcolor": "white",
               "lakecolor": "white",
               "landcolor": "white",
               "showlakes": true,
               "showland": true,
               "subunitcolor": "#C8D4E3"
              },
              "hoverlabel": {
               "align": "left"
              },
              "hovermode": "closest",
              "mapbox": {
               "style": "light"
              },
              "paper_bgcolor": "white",
              "plot_bgcolor": "white",
              "polar": {
               "angularaxis": {
                "gridcolor": "#EBF0F8",
                "linecolor": "#EBF0F8",
                "ticks": ""
               },
               "bgcolor": "white",
               "radialaxis": {
                "gridcolor": "#EBF0F8",
                "linecolor": "#EBF0F8",
                "ticks": ""
               }
              },
              "scene": {
               "xaxis": {
                "backgroundcolor": "white",
                "gridcolor": "#DFE8F3",
                "gridwidth": 2,
                "linecolor": "#EBF0F8",
                "showbackground": true,
                "ticks": "",
                "zerolinecolor": "#EBF0F8"
               },
               "yaxis": {
                "backgroundcolor": "white",
                "gridcolor": "#DFE8F3",
                "gridwidth": 2,
                "linecolor": "#EBF0F8",
                "showbackground": true,
                "ticks": "",
                "zerolinecolor": "#EBF0F8"
               },
               "zaxis": {
                "backgroundcolor": "white",
                "gridcolor": "#DFE8F3",
                "gridwidth": 2,
                "linecolor": "#EBF0F8",
                "showbackground": true,
                "ticks": "",
                "zerolinecolor": "#EBF0F8"
               }
              },
              "shapedefaults": {
               "line": {
                "color": "#2a3f5f"
               }
              },
              "ternary": {
               "aaxis": {
                "gridcolor": "#DFE8F3",
                "linecolor": "#A2B1C6",
                "ticks": ""
               },
               "baxis": {
                "gridcolor": "#DFE8F3",
                "linecolor": "#A2B1C6",
                "ticks": ""
               },
               "bgcolor": "white",
               "caxis": {
                "gridcolor": "#DFE8F3",
                "linecolor": "#A2B1C6",
                "ticks": ""
               }
              },
              "title": {
               "x": 0.05
              },
              "xaxis": {
               "automargin": true,
               "gridcolor": "#EBF0F8",
               "linecolor": "#EBF0F8",
               "ticks": "",
               "title": {
                "standoff": 15
               },
               "zerolinecolor": "#EBF0F8",
               "zerolinewidth": 2
              },
              "yaxis": {
               "automargin": true,
               "gridcolor": "#EBF0F8",
               "linecolor": "#EBF0F8",
               "ticks": "",
               "title": {
                "standoff": 15
               },
               "zerolinecolor": "#EBF0F8",
               "zerolinewidth": 2
              }
             }
            },
            "title": {
             "text": "NAEP Scores by Demographic Group in 2017"
            },
            "xaxis": {
             "tickangle": -45,
             "title": {
              "text": "Demographic Group"
             }
            },
            "yaxis": {
             "title": {
              "text": "Score"
             }
            }
           }
          },
          "text/html": "<div>                            <div id=\"7cf5ee27-cc68-4d8a-a682-9c4298505a95\" class=\"plotly-graph-div\" style=\"height:525px; width:100%;\"></div>            <script type=\"text/javascript\">                require([\"plotly\"], function(Plotly) {                    window.PLOTLYENV=window.PLOTLYENV || {};                                    if (document.getElementById(\"7cf5ee27-cc68-4d8a-a682-9c4298505a95\")) {                    Plotly.newPlot(                        \"7cf5ee27-cc68-4d8a-a682-9c4298505a95\",                        [{\"marker\":{\"color\":\"royalblue\"},\"name\":\"Scores\",\"x\":[\"White\",\"Black\",\"Hispanic\",\"Asian\\u002fPacific Islander\",\"American Indian\\u002fAlaska Native\",\"2 or More Races\",\"SD\",\"Not SD\",\"ELL\",\"Not ELL\"],\"y\":[268.11,241.16,243.22,null,null,null,215.81,262.28,null,258.67],\"type\":\"bar\"}],                        {\"template\":{\"data\":{\"barpolar\":[{\"marker\":{\"line\":{\"color\":\"white\",\"width\":0.5},\"pattern\":{\"fillmode\":\"overlay\",\"size\":10,\"solidity\":0.2}},\"type\":\"barpolar\"}],\"bar\":[{\"error_x\":{\"color\":\"#2a3f5f\"},\"error_y\":{\"color\":\"#2a3f5f\"},\"marker\":{\"line\":{\"color\":\"white\",\"width\":0.5},\"pattern\":{\"fillmode\":\"overlay\",\"size\":10,\"solidity\":0.2}},\"type\":\"bar\"}],\"carpet\":[{\"aaxis\":{\"endlinecolor\":\"#2a3f5f\",\"gridcolor\":\"#C8D4E3\",\"linecolor\":\"#C8D4E3\",\"minorgridcolor\":\"#C8D4E3\",\"startlinecolor\":\"#2a3f5f\"},\"baxis\":{\"endlinecolor\":\"#2a3f5f\",\"gridcolor\":\"#C8D4E3\",\"linecolor\":\"#C8D4E3\",\"minorgridcolor\":\"#C8D4E3\",\"startlinecolor\":\"#2a3f5f\"},\"type\":\"carpet\"}],\"choropleth\":[{\"colorbar\":{\"outlinewidth\":0,\"ticks\":\"\"},\"type\":\"choropleth\"}],\"contourcarpet\":[{\"colorbar\":{\"outlinewidth\":0,\"ticks\":\"\"},\"type\":\"contourcarpet\"}],\"contour\":[{\"colorbar\":{\"outlinewidth\":0,\"ticks\":\"\"},\"colorscale\":[[0.0,\"#0d0887\"],[0.1111111111111111,\"#46039f\"],[0.2222222222222222,\"#7201a8\"],[0.3333333333333333,\"#9c179e\"],[0.4444444444444444,\"#bd3786\"],[0.5555555555555556,\"#d8576b\"],[0.6666666666666666,\"#ed7953\"],[0.7777777777777778,\"#fb9f3a\"],[0.8888888888888888,\"#fdca26\"],[1.0,\"#f0f921\"]],\"type\":\"contour\"}],\"heatmapgl\":[{\"colorbar\":{\"outlinewidth\":0,\"ticks\":\"\"},\"colorscale\":[[0.0,\"#0d0887\"],[0.1111111111111111,\"#46039f\"],[0.2222222222222222,\"#7201a8\"],[0.3333333333333333,\"#9c179e\"],[0.4444444444444444,\"#bd3786\"],[0.5555555555555556,\"#d8576b\"],[0.6666666666666666,\"#ed7953\"],[0.7777777777777778,\"#fb9f3a\"],[0.8888888888888888,\"#fdca26\"],[1.0,\"#f0f921\"]],\"type\":\"heatmapgl\"}],\"heatmap\":[{\"colorbar\":{\"outlinewidth\":0,\"ticks\":\"\"},\"colorscale\":[[0.0,\"#0d0887\"],[0.1111111111111111,\"#46039f\"],[0.2222222222222222,\"#7201a8\"],[0.3333333333333333,\"#9c179e\"],[0.4444444444444444,\"#bd3786\"],[0.5555555555555556,\"#d8576b\"],[0.6666666666666666,\"#ed7953\"],[0.7777777777777778,\"#fb9f3a\"],[0.8888888888888888,\"#fdca26\"],[1.0,\"#f0f921\"]],\"type\":\"heatmap\"}],\"histogram2dcontour\":[{\"colorbar\":{\"outlinewidth\":0,\"ticks\":\"\"},\"colorscale\":[[0.0,\"#0d0887\"],[0.1111111111111111,\"#46039f\"],[0.2222222222222222,\"#7201a8\"],[0.3333333333333333,\"#9c179e\"],[0.4444444444444444,\"#bd3786\"],[0.5555555555555556,\"#d8576b\"],[0.6666666666666666,\"#ed7953\"],[0.7777777777777778,\"#fb9f3a\"],[0.8888888888888888,\"#fdca26\"],[1.0,\"#f0f921\"]],\"type\":\"histogram2dcontour\"}],\"histogram2d\":[{\"colorbar\":{\"outlinewidth\":0,\"ticks\":\"\"},\"colorscale\":[[0.0,\"#0d0887\"],[0.1111111111111111,\"#46039f\"],[0.2222222222222222,\"#7201a8\"],[0.3333333333333333,\"#9c179e\"],[0.4444444444444444,\"#bd3786\"],[0.5555555555555556,\"#d8576b\"],[0.6666666666666666,\"#ed7953\"],[0.7777777777777778,\"#fb9f3a\"],[0.8888888888888888,\"#fdca26\"],[1.0,\"#f0f921\"]],\"type\":\"histogram2d\"}],\"histogram\":[{\"marker\":{\"pattern\":{\"fillmode\":\"overlay\",\"size\":10,\"solidity\":0.2}},\"type\":\"histogram\"}],\"mesh3d\":[{\"colorbar\":{\"outlinewidth\":0,\"ticks\":\"\"},\"type\":\"mesh3d\"}],\"parcoords\":[{\"line\":{\"colorbar\":{\"outlinewidth\":0,\"ticks\":\"\"}},\"type\":\"parcoords\"}],\"pie\":[{\"automargin\":true,\"type\":\"pie\"}],\"scatter3d\":[{\"line\":{\"colorbar\":{\"outlinewidth\":0,\"ticks\":\"\"}},\"marker\":{\"colorbar\":{\"outlinewidth\":0,\"ticks\":\"\"}},\"type\":\"scatter3d\"}],\"scattercarpet\":[{\"marker\":{\"colorbar\":{\"outlinewidth\":0,\"ticks\":\"\"}},\"type\":\"scattercarpet\"}],\"scattergeo\":[{\"marker\":{\"colorbar\":{\"outlinewidth\":0,\"ticks\":\"\"}},\"type\":\"scattergeo\"}],\"scattergl\":[{\"marker\":{\"colorbar\":{\"outlinewidth\":0,\"ticks\":\"\"}},\"type\":\"scattergl\"}],\"scattermapbox\":[{\"marker\":{\"colorbar\":{\"outlinewidth\":0,\"ticks\":\"\"}},\"type\":\"scattermapbox\"}],\"scatterpolargl\":[{\"marker\":{\"colorbar\":{\"outlinewidth\":0,\"ticks\":\"\"}},\"type\":\"scatterpolargl\"}],\"scatterpolar\":[{\"marker\":{\"colorbar\":{\"outlinewidth\":0,\"ticks\":\"\"}},\"type\":\"scatterpolar\"}],\"scatter\":[{\"fillpattern\":{\"fillmode\":\"overlay\",\"size\":10,\"solidity\":0.2},\"type\":\"scatter\"}],\"scatterternary\":[{\"marker\":{\"colorbar\":{\"outlinewidth\":0,\"ticks\":\"\"}},\"type\":\"scatterternary\"}],\"surface\":[{\"colorbar\":{\"outlinewidth\":0,\"ticks\":\"\"},\"colorscale\":[[0.0,\"#0d0887\"],[0.1111111111111111,\"#46039f\"],[0.2222222222222222,\"#7201a8\"],[0.3333333333333333,\"#9c179e\"],[0.4444444444444444,\"#bd3786\"],[0.5555555555555556,\"#d8576b\"],[0.6666666666666666,\"#ed7953\"],[0.7777777777777778,\"#fb9f3a\"],[0.8888888888888888,\"#fdca26\"],[1.0,\"#f0f921\"]],\"type\":\"surface\"}],\"table\":[{\"cells\":{\"fill\":{\"color\":\"#EBF0F8\"},\"line\":{\"color\":\"white\"}},\"header\":{\"fill\":{\"color\":\"#C8D4E3\"},\"line\":{\"color\":\"white\"}},\"type\":\"table\"}]},\"layout\":{\"annotationdefaults\":{\"arrowcolor\":\"#2a3f5f\",\"arrowhead\":0,\"arrowwidth\":1},\"autotypenumbers\":\"strict\",\"coloraxis\":{\"colorbar\":{\"outlinewidth\":0,\"ticks\":\"\"}},\"colorscale\":{\"diverging\":[[0,\"#8e0152\"],[0.1,\"#c51b7d\"],[0.2,\"#de77ae\"],[0.3,\"#f1b6da\"],[0.4,\"#fde0ef\"],[0.5,\"#f7f7f7\"],[0.6,\"#e6f5d0\"],[0.7,\"#b8e186\"],[0.8,\"#7fbc41\"],[0.9,\"#4d9221\"],[1,\"#276419\"]],\"sequential\":[[0.0,\"#0d0887\"],[0.1111111111111111,\"#46039f\"],[0.2222222222222222,\"#7201a8\"],[0.3333333333333333,\"#9c179e\"],[0.4444444444444444,\"#bd3786\"],[0.5555555555555556,\"#d8576b\"],[0.6666666666666666,\"#ed7953\"],[0.7777777777777778,\"#fb9f3a\"],[0.8888888888888888,\"#fdca26\"],[1.0,\"#f0f921\"]],\"sequentialminus\":[[0.0,\"#0d0887\"],[0.1111111111111111,\"#46039f\"],[0.2222222222222222,\"#7201a8\"],[0.3333333333333333,\"#9c179e\"],[0.4444444444444444,\"#bd3786\"],[0.5555555555555556,\"#d8576b\"],[0.6666666666666666,\"#ed7953\"],[0.7777777777777778,\"#fb9f3a\"],[0.8888888888888888,\"#fdca26\"],[1.0,\"#f0f921\"]]},\"colorway\":[\"#636efa\",\"#EF553B\",\"#00cc96\",\"#ab63fa\",\"#FFA15A\",\"#19d3f3\",\"#FF6692\",\"#B6E880\",\"#FF97FF\",\"#FECB52\"],\"font\":{\"color\":\"#2a3f5f\"},\"geo\":{\"bgcolor\":\"white\",\"lakecolor\":\"white\",\"landcolor\":\"white\",\"showlakes\":true,\"showland\":true,\"subunitcolor\":\"#C8D4E3\"},\"hoverlabel\":{\"align\":\"left\"},\"hovermode\":\"closest\",\"mapbox\":{\"style\":\"light\"},\"paper_bgcolor\":\"white\",\"plot_bgcolor\":\"white\",\"polar\":{\"angularaxis\":{\"gridcolor\":\"#EBF0F8\",\"linecolor\":\"#EBF0F8\",\"ticks\":\"\"},\"bgcolor\":\"white\",\"radialaxis\":{\"gridcolor\":\"#EBF0F8\",\"linecolor\":\"#EBF0F8\",\"ticks\":\"\"}},\"scene\":{\"xaxis\":{\"backgroundcolor\":\"white\",\"gridcolor\":\"#DFE8F3\",\"gridwidth\":2,\"linecolor\":\"#EBF0F8\",\"showbackground\":true,\"ticks\":\"\",\"zerolinecolor\":\"#EBF0F8\"},\"yaxis\":{\"backgroundcolor\":\"white\",\"gridcolor\":\"#DFE8F3\",\"gridwidth\":2,\"linecolor\":\"#EBF0F8\",\"showbackground\":true,\"ticks\":\"\",\"zerolinecolor\":\"#EBF0F8\"},\"zaxis\":{\"backgroundcolor\":\"white\",\"gridcolor\":\"#DFE8F3\",\"gridwidth\":2,\"linecolor\":\"#EBF0F8\",\"showbackground\":true,\"ticks\":\"\",\"zerolinecolor\":\"#EBF0F8\"}},\"shapedefaults\":{\"line\":{\"color\":\"#2a3f5f\"}},\"ternary\":{\"aaxis\":{\"gridcolor\":\"#DFE8F3\",\"linecolor\":\"#A2B1C6\",\"ticks\":\"\"},\"baxis\":{\"gridcolor\":\"#DFE8F3\",\"linecolor\":\"#A2B1C6\",\"ticks\":\"\"},\"bgcolor\":\"white\",\"caxis\":{\"gridcolor\":\"#DFE8F3\",\"linecolor\":\"#A2B1C6\",\"ticks\":\"\"}},\"title\":{\"x\":0.05},\"xaxis\":{\"automargin\":true,\"gridcolor\":\"#EBF0F8\",\"linecolor\":\"#EBF0F8\",\"ticks\":\"\",\"title\":{\"standoff\":15},\"zerolinecolor\":\"#EBF0F8\",\"zerolinewidth\":2},\"yaxis\":{\"automargin\":true,\"gridcolor\":\"#EBF0F8\",\"linecolor\":\"#EBF0F8\",\"ticks\":\"\",\"title\":{\"standoff\":15},\"zerolinecolor\":\"#EBF0F8\",\"zerolinewidth\":2}}},\"annotations\":[{\"arrowhead\":2,\"ax\":0,\"ay\":-40,\"showarrow\":true,\"text\":\"***\",\"x\":\"White\",\"y\":268.11},{\"arrowhead\":2,\"ax\":0,\"ay\":-40,\"showarrow\":true,\"text\":\"***\",\"x\":\"Black\",\"y\":241.16},{\"arrowhead\":2,\"ax\":0,\"ay\":-40,\"showarrow\":true,\"text\":\"***\",\"x\":\"Not SD\",\"y\":262.28},{\"arrowhead\":2,\"ax\":0,\"ay\":-40,\"showarrow\":true,\"text\":\"***\",\"x\":\"Not ELL\",\"y\":258.67}],\"xaxis\":{\"title\":{\"text\":\"Demographic Group\"},\"tickangle\":-45},\"title\":{\"text\":\"NAEP Scores by Demographic Group in 2017\"},\"yaxis\":{\"title\":{\"text\":\"Score\"}}},                        {\"responsive\": true}                    ).then(function(){\n                            \nvar gd = document.getElementById('7cf5ee27-cc68-4d8a-a682-9c4298505a95');\nvar x = new MutationObserver(function (mutations, observer) {{\n        var display = window.getComputedStyle(gd).display;\n        if (!display || display === 'none') {{\n            console.log([gd, 'removed!']);\n            Plotly.purge(gd);\n            observer.disconnect();\n        }}\n}});\n\n// Listen for the removal of the full notebook cells\nvar notebookContainer = gd.closest('#notebook-container');\nif (notebookContainer) {{\n    x.observe(notebookContainer, {childList: true});\n}}\n\n// Listen for the clearing of the current output cell\nvar outputEl = gd.closest('.output');\nif (outputEl) {{\n    x.observe(outputEl, {childList: true});\n}}\n\n                        })                };                });            </script>        </div>"
         },
         "metadata": {},
         "output_type": "display_data"
        }
       ]
      }
     }
    },
    "version_major": 2,
    "version_minor": 0
   }
  }
 },
 "nbformat": 4,
 "nbformat_minor": 5
}
